{
  "nbformat": 4,
  "nbformat_minor": 0,
  "metadata": {
    "colab": {
      "name": "MarcoRuiz-AG1.ipynb",
      "provenance": [],
      "collapsed_sections": [],
      "include_colab_link": true
    },
    "kernelspec": {
      "name": "python3",
      "display_name": "Python 3"
    }
  },
  "cells": [
    {
      "cell_type": "markdown",
      "metadata": {
        "id": "view-in-github",
        "colab_type": "text"
      },
      "source": [
        "<a href=\"https://colab.research.google.com/github/MarcoRuizS/Python/blob/master/ag1/MarcoRuiz_AG1.ipynb\" target=\"_parent\"><img src=\"https://colab.research.google.com/assets/colab-badge.svg\" alt=\"Open In Colab\"/></a>"
      ]
    },
    {
      "cell_type": "code",
      "metadata": {
        "id": "TWxXAsoMGh8u",
        "colab_type": "code",
        "colab": {}
      },
      "source": [
        ""
      ],
      "execution_count": 0,
      "outputs": []
    },
    {
      "cell_type": "markdown",
      "metadata": {
        "id": "uAs-uWTXGw-f",
        "colab_type": "text"
      },
      "source": [
        "Actividad Guiada Algoritmo de Optimizacion</br>\n",
        "Marco Ruiz</br>\n",
        "https://colab.research.google.com/drive/1dyPzcLQblgzIyKAdp8bXSzMOf42mJQ0Q"
      ]
    },
    {
      "cell_type": "code",
      "metadata": {
        "id": "-KPXZJnuHkic",
        "colab_type": "code",
        "outputId": "befbaf3f-96d8-4f12-ed22-9c9954867438",
        "colab": {
          "base_uri": "https://localhost:8080/",
          "height": 544
        }
      },
      "source": [
        "def torres(N,desde,hasta): #N: numero de fichas, torres\n",
        "  if N==1: #si la torre igual a 1 \n",
        "    print('lleva la ficha desde', desde, 'hasta',hasta)\n",
        "  else:\n",
        "    torres(N-1, desde, 6-desde-hasta)\n",
        "    print('lleva la ficha desde', desde, 'hasta',hasta)\n",
        "    torres(N-1, 6-desde-hasta, hasta)\n",
        "\n",
        "torres(5,1,3)"
      ],
      "execution_count": 0,
      "outputs": [
        {
          "output_type": "stream",
          "text": [
            "lleva la ficha desde 1 hasta 3\n",
            "lleva la ficha desde 1 hasta 2\n",
            "lleva la ficha desde 3 hasta 2\n",
            "lleva la ficha desde 1 hasta 3\n",
            "lleva la ficha desde 2 hasta 1\n",
            "lleva la ficha desde 2 hasta 3\n",
            "lleva la ficha desde 1 hasta 3\n",
            "lleva la ficha desde 1 hasta 2\n",
            "lleva la ficha desde 3 hasta 2\n",
            "lleva la ficha desde 3 hasta 1\n",
            "lleva la ficha desde 2 hasta 1\n",
            "lleva la ficha desde 3 hasta 2\n",
            "lleva la ficha desde 1 hasta 3\n",
            "lleva la ficha desde 1 hasta 2\n",
            "lleva la ficha desde 3 hasta 2\n",
            "lleva la ficha desde 1 hasta 3\n",
            "lleva la ficha desde 2 hasta 1\n",
            "lleva la ficha desde 2 hasta 3\n",
            "lleva la ficha desde 1 hasta 3\n",
            "lleva la ficha desde 2 hasta 1\n",
            "lleva la ficha desde 3 hasta 2\n",
            "lleva la ficha desde 3 hasta 1\n",
            "lleva la ficha desde 2 hasta 1\n",
            "lleva la ficha desde 2 hasta 3\n",
            "lleva la ficha desde 1 hasta 3\n",
            "lleva la ficha desde 1 hasta 2\n",
            "lleva la ficha desde 3 hasta 2\n",
            "lleva la ficha desde 1 hasta 3\n",
            "lleva la ficha desde 2 hasta 1\n",
            "lleva la ficha desde 2 hasta 3\n",
            "lleva la ficha desde 1 hasta 3\n"
          ],
          "name": "stdout"
        }
      ]
    },
    {
      "cell_type": "code",
      "metadata": {
        "id": "Y0XsDkoqHcLv",
        "colab_type": "code",
        "colab": {}
      },
      "source": [
        "def reinas (N, solucion, etapa): #Tamano del tablero\n",
        "  for i in range(1,N+1):\n",
        "    solucion[etapa]=i\n",
        "\n",
        "    #print(solucion)\n",
        "    if es_prometedora(solucion,etapa):\n",
        "      if etapa == N-1 :\n",
        "        print('\\n\\n solucion es:')\n",
        "        print(solucion)\n",
        "        # escribe(solucion)\n",
        "      else:\n",
        "        # print('Es prometedora\\n ##########')\n",
        "        reinas(N,solucion,etapa+1)\n",
        "    else:\n",
        "      # print('No prometedora\\n #########')\n",
        "      None\n",
        "    solucion[etapa]=0\n",
        "\n",
        "def es_prometedora(SOLUCION, etapa):\n",
        "  #print(SOLUCION)\n",
        "  #Si la solucion tiene dos soluciones iguales no es valida  Dos reinas en la misma \n",
        "  for i in range(etapa+1):\n",
        "    #print('el valor' + str(SOLUCION[i])+'esta'+ str(SOLUCION[I])) + 'VECES')\n",
        "    if SOLUCION.count(SOLUCION[i])>1:\n",
        "      return False\n",
        "    #Verifica las Diagonales\n",
        "    for j in range(i+1, etapa+1):\n",
        "      #pront('comprobando la diagonal'+str(i)+\"y\"+str(j))\n",
        "      if abs(i-j)==abs(SOLUCION[i]-SOLUCION[j]): return False\n",
        "  return True\n",
        "\n",
        "# reinas(4,4,2)"
      ],
      "execution_count": 0,
      "outputs": []
    },
    {
      "cell_type": "code",
      "metadata": {
        "id": "oMhCGXpEkltn",
        "colab_type": "code",
        "outputId": "30bac06d-f77f-43ed-b03f-13e76bbb32fe",
        "colab": {
          "base_uri": "https://localhost:8080/",
          "height": 153
        }
      },
      "source": [
        "import numpy as np\n",
        "\n",
        "N = 4\n",
        "solucion =  [0] * N\n",
        "etapa = 0\n",
        "reinas (N, solucion, etapa)"
      ],
      "execution_count": 0,
      "outputs": [
        {
          "output_type": "stream",
          "text": [
            "\n",
            "\n",
            " solucion es:\n",
            "[2, 4, 1, 3]\n",
            "\n",
            "\n",
            " solucion es:\n",
            "[3, 1, 4, 2]\n"
          ],
          "name": "stdout"
        }
      ]
    }
  ]
}